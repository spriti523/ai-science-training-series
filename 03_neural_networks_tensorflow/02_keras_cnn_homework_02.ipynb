{
 "cells": [
  {
   "cell_type": "markdown",
   "metadata": {},
   "source": [
    "# CIFAR-10 dataset classification with CNNs\n",
    "\n",
    "Author: Tanwi Mallick, adapting codes from Bethany Lusch, Prasanna Balprakash, Corey Adams, and Kyle Felker\n",
    "\n",
    "In this notebook, we'll continue the CIFAR-10 problem using the Keras API (as included in the TensorFlow library) and incorporating convolutional layers.\n",
    "\n",
    "First, the needed imports."
   ]
  },
  {
   "cell_type": "code",
   "execution_count": 1,
   "metadata": {},
   "outputs": [],
   "source": [
    "%matplotlib inline\n",
    "\n",
    "import tensorflow as tf\n",
    "\n",
    "import numpy\n",
    "import matplotlib.pyplot as plt\n",
    "import time"
   ]
  },
  {
   "cell_type": "markdown",
   "metadata": {},
   "source": [
    "## CIFAR-10 data set\n",
    "\n",
    "Again we'll load the cifar10 data set. CIFAR-10 dataset contains 32x32 color images from 10 classes: airplane, automobile, bird, cat, deer, dog, frog, horse, ship, truck. If you haven't downloaded it already, it could take a while."
   ]
  },
  {
   "cell_type": "code",
   "execution_count": 28,
   "metadata": {},
   "outputs": [],
   "source": [
    "(x_train, y_train), (x_test, y_test) = tf.keras.datasets.cifar10.load_data()\n",
    "x_train = x_train.astype(numpy.float32)\n",
    "x_test  = x_test.astype(numpy.float32)\n",
    "\n",
    "x_train /= 255.\n",
    "x_test  /= 255.\n",
    "\n",
    "y_train = y_train.astype(numpy.int32)\n",
    "y_test  = y_test.astype(numpy.int32)"
   ]
  },
  {
   "cell_type": "markdown",
   "metadata": {},
   "source": [
    "This time we won't flatten the images. \n",
    "\n",
    "The training data (`X_train`) is a 3rd-order tensor of size (50000, 32, 32), i.e. it consists of 50000 images of size 32x32 pixels. \n",
    "\n",
    "`y_train` is a 50000-dimensional vector containing the correct classes ('airplane', 'automobile', 'bird', 'cat', 'deer', 'dog', 'frog', 'horse', 'ship', 'truck') for each training sample."
   ]
  },
  {
   "cell_type": "markdown",
   "metadata": {},
   "source": [
    "## Convolutional neural network (CNN)\n",
    "\n",
    "CNN is a type of deep learning model for processing data that has a grid pattern, such as images.\n",
    "\n",
    "Let's use a small model that includes convolutional layers\n",
    "\n",
    "- The Conv2D layers operate on 2D matrices so we input the images directly to the model.\n",
    "    - The two Conv2D layers below learn 32 and 64 filters respectively. \n",
    "    - They are learning filters for 3x3 windows.\n",
    "- The MaxPooling2D layer reduces the spatial dimensions, that is, makes the image smaller.\n",
    "    - It downsamples by taking the maximum value in the window \n",
    "    - The pool size of (2, 2) below means the windows are 2x2. \n",
    "    - Helps in extracting important features and reduce computation\n",
    "- The Flatten layer flattens the 2D matrices into vectors, so we can then switch to Dense layers as in the MLP model.\n",
    "\n",
    "See https://keras.io/layers/convolutional/, https://keras.io/layers/pooling/ for more information."
   ]
  },
  {
   "cell_type": "markdown",
   "metadata": {},
   "source": [
    "![conv layer](images/conv_layer.png)\n",
    "Image credit: [Jason Brownlee](https://machinelearningmastery.com/convolutional-layers-for-deep-learning-neural-networks/)"
   ]
  },
  {
   "cell_type": "markdown",
   "metadata": {},
   "source": [
    "![conv layer](images/conv.png)\n",
    "Image credit: [Anh H. Reynolds](https://anhreynolds.com/blogs/cnn.html)"
   ]
  },
  {
   "cell_type": "markdown",
   "metadata": {},
   "source": [
    "\n",
    "<img src=\"images/MaxpoolSample2.png\" width=\"600\" hight=\"600\" align=\"left\"/>"
   ]
  },
  {
   "cell_type": "code",
   "execution_count": 3,
   "metadata": {},
   "outputs": [],
   "source": [
    "class CIFAR10Classifier(tf.keras.models.Model):\n",
    "\n",
    "    def __init__(self, activation=tf.nn.tanh):\n",
    "        tf.keras.models.Model.__init__(self)\n",
    "\n",
    "        self.conv_1 = tf.keras.layers.Conv2D(32, [3, 3], activation='relu')\n",
    "        self.conv_2 = tf.keras.layers.Conv2D(64, [3, 3], activation='relu')\n",
    "        self.pool_3 = tf.keras.layers.MaxPooling2D(pool_size=(2, 2))\n",
    "        self.drop_4 = tf.kera\n",
    "        s.layers.Dropout(0.25)\n",
    "        self.dense_5 = tf.keras.layers.Dense(128, activation='relu')\n",
    "        self.drop_6 = tf.keras.layers.Dropout(0.5)\n",
    "        self.dense_7 = tf.keras.layers.Dense(10, activation='softmax')\n",
    "\n",
    "    def call(self, inputs):\n",
    "\n",
    "        x = self.conv_1(inputs)\n",
    "        x = self.conv_2(x)\n",
    "        x = self.pool_3(x)\n",
    "        x = self.drop_4(x)\n",
    "        x = tf.keras.layers.Flatten()(x)\n",
    "        x = self.dense_5(x)\n",
    "        x = self.drop_6(x)\n",
    "        x = self.dense_7(x)\n",
    "\n",
    "        return x"
   ]
  },
  {
   "cell_type": "markdown",
   "metadata": {},
   "source": [
    "### Simple training"
   ]
  },
  {
   "cell_type": "markdown",
   "metadata": {},
   "source": [
    "Here is a concise way to train the network, like we did in the previous notebook. We'll see a more verbose approach below that allows more performance tuning."
   ]
  },
  {
   "cell_type": "code",
   "execution_count": 9,
   "metadata": {},
   "outputs": [],
   "source": [
    "def train_network_concise(_batch_size, _n_training_epochs, _lr):\n",
    "\n",
    "    cnn_model = CIFAR10Classifier()\n",
    "\n",
    "    cnn_model.compile(loss=\"sparse_categorical_crossentropy\", optimizer=\"adam\", metrics=['accuracy'])\n",
    "    \n",
    "    history = cnn_model.fit(x_train, y_train, batch_size=_batch_size, epochs=_n_training_epochs)\n",
    "    return history, cnn_model"
   ]
  },
  {
   "cell_type": "code",
   "execution_count": 10,
   "metadata": {},
   "outputs": [
    {
     "name": "stdout",
     "output_type": "stream",
     "text": [
      "Epoch 1/3\n",
      "98/98 [==============================] - 5s 9ms/step - loss: 1.7538 - accuracy: 0.3629\n",
      "Epoch 2/3\n",
      "98/98 [==============================] - 1s 7ms/step - loss: 1.3875 - accuracy: 0.5024\n",
      "Epoch 3/3\n",
      "98/98 [==============================] - 1s 7ms/step - loss: 1.2389 - accuracy: 0.5606\n"
     ]
    }
   ],
   "source": [
    "# This took 43 seconds per epoch on my laptop\n",
    "batch_size = 512\n",
    "epochs = 3\n",
    "lr = .01\n",
    "history, cnn_model = train_network_concise(batch_size, epochs, lr)"
   ]
  },
  {
   "cell_type": "markdown",
   "metadata": {},
   "source": [
    "Accuracy for test data.  The model should be better than the non-convolutional model even if you're only patient enough for three epochs. "
   ]
  },
  {
   "cell_type": "code",
   "execution_count": 11,
   "metadata": {},
   "outputs": [
    {
     "data": {
      "image/png": "[encoded data removed]",
      "text/plain": [
       "<Figure size 360x216 with 1 Axes>"
      ]
     },
     "metadata": {
      "needs_background": "light"
     },
     "output_type": "display_data"
    },
    {
     "data": {
      "image/png": "[encoded data removed]",
      "text/plain": [
       "<Figure size 360x216 with 1 Axes>"
      ]
     },
     "metadata": {
      "needs_background": "light"
     },
     "output_type": "display_data"
    }
   ],
   "source": [
    "plt.figure(figsize=(5,3))\n",
    "plt.plot(history.epoch,history.history['loss'])\n",
    "plt.title('loss')\n",
    "\n",
    "plt.figure(figsize=(5,3))\n",
    "plt.plot(history.epoch,history.history['accuracy'])\n",
    "plt.title('accuracy');"
   ]
  },
  {
   "cell_type": "markdown",
   "metadata": {},
   "source": [
    "### Inference"
   ]
  },
  {
   "cell_type": "markdown",
   "metadata": {},
   "source": [
    "With enough training epochs, the test accuracy should exceed 96.53%.\n",
    "\n",
    "You can compare your result with the state-of-the art [here](http://rodrigob.github.io/are_we_there_yet/build/classification_datasets_results.html). "
   ]
  },
  {
   "cell_type": "code",
   "execution_count": 12,
   "metadata": {},
   "outputs": [
    {
     "name": "stdout",
     "output_type": "stream",
     "text": [
      "313/313 - 1s - loss: 1.0937 - accuracy: 0.6190 - 521ms/epoch - 2ms/step\n",
      "accuracy: 61.90%\n",
      "CPU times: user 918 ms, sys: 1.33 s, total: 2.25 s\n",
      "Wall time: 1.97 s\n"
     ]
    }
   ],
   "source": [
    "%%time\n",
    "x_test_reshaped = numpy.expand_dims(x_test, -1)\n",
    "scores = cnn_model.evaluate(x_test, y_test, verbose=2)\n",
    "print(\"%s: %.2f%%\" % (cnn_model.metrics_names[1], scores[1]*100))"
   ]
  },
  {
   "cell_type": "markdown",
   "metadata": {},
   "source": [
    "We can also again check the confusion matrix"
   ]
  },
  {
   "cell_type": "code",
   "execution_count": 13,
   "metadata": {},
   "outputs": [
    {
     "name": "stdout",
     "output_type": "stream",
     "text": [
      "Confusion matrix (rows: true classes; columns: predicted classes):\n",
      "\n",
      "313/313 [==============================] - 0s 847us/step\n",
      "[[664  14  66  36   3  10  13  14 127  53]\n",
      " [ 28 700  15  20   0   4   9  12  55 157]\n",
      " [ 85   7 529 108  39  91  65  41  19  16]\n",
      " [ 15   6  98 521  27 173  81  52  17  10]\n",
      " [ 43   2 235 108 336  40  94 118  18   6]\n",
      " [ 15   3  89 209  21 550  27  71  10   5]\n",
      " [  4   4  78 102  23  31 721  20   8   9]\n",
      " [ 18   1  48  65  25  90   8 720   5  20]\n",
      " [ 99  48  14  30   1   8   8   6 740  46]\n",
      " [ 38 105  15  23   3   7  16  32  52 709]]\n",
      "\n",
      "Classification accuracy for each class:\n",
      "\n",
      "0: 0.6640\n",
      "1: 0.7000\n",
      "2: 0.5290\n",
      "3: 0.5210\n",
      "4: 0.3360\n",
      "5: 0.5500\n",
      "6: 0.7210\n",
      "7: 0.7200\n",
      "8: 0.7400\n",
      "9: 0.7090\n"
     ]
    }
   ],
   "source": [
    "from sklearn.metrics import confusion_matrix\n",
    "\n",
    "print('Confusion matrix (rows: true classes; columns: predicted classes):'); print()\n",
    "predictions = cnn_model.predict(x_test)\n",
    "cm=confusion_matrix(y_test, numpy.argmax(predictions, axis=1), labels=list(range(10)))\n",
    "print(cm); print()\n",
    "\n",
    "print('Classification accuracy for each class:'); print()\n",
    "for i,j in enumerate(cm.diagonal()/cm.sum(axis=1)): print(\"%d: %.4f\" % (i,j))"
   ]
  },
  {
   "cell_type": "markdown",
   "metadata": {},
   "source": [
    "### More verbose training"
   ]
  },
  {
   "cell_type": "markdown",
   "metadata": {},
   "source": [
    "This approach explicitly handles the looping over data. It will be helpful in future weeks for diving in and optimizing"
   ]
  },
  {
   "cell_type": "code",
   "execution_count": 14,
   "metadata": {},
   "outputs": [],
   "source": [
    "def compute_loss(y_true, y_pred):\n",
    "    # if labels are integers, use sparse categorical crossentropy\n",
    "    # network's final layer is softmax, so from_logtis=False\n",
    "    scce = tf.keras.losses.SparseCategoricalCrossentropy(from_logits=False)\n",
    "    # if labels are one-hot encoded, use standard crossentropy\n",
    "\n",
    "    return scce(y_true, y_pred)  "
   ]
  },
  {
   "cell_type": "code",
   "execution_count": 15,
   "metadata": {},
   "outputs": [],
   "source": [
    "def forward_pass(model, batch_data, y_true):\n",
    "    y_pred = model(batch_data)\n",
    "    loss = compute_loss(y_true, y_pred)\n",
    "    return loss"
   ]
  },
  {
   "cell_type": "code",
   "execution_count": 16,
   "metadata": {},
   "outputs": [],
   "source": [
    "# Here is a function that will manage the training loop for us:\n",
    "\n",
    "def train_loop(batch_size, n_training_epochs, model, opt):\n",
    "    \n",
    "    @tf.function()\n",
    "    def train_iteration(data, y_true, model, opt):\n",
    "        with tf.GradientTape() as tape:\n",
    "            loss = forward_pass(model, data, y_true)\n",
    "\n",
    "        trainable_vars = model.trainable_variables\n",
    "\n",
    "        # Apply the update to the network (one at a time):\n",
    "        grads = tape.gradient(loss, trainable_vars)\n",
    "\n",
    "        opt.apply_gradients(zip(grads, trainable_vars))\n",
    "        return loss\n",
    "\n",
    "    for i_epoch in range(n_training_epochs):\n",
    "        print(\"beginning epoch %d\" % i_epoch)\n",
    "        start = time.time()\n",
    "\n",
    "        epoch_steps = int(50000/batch_size)\n",
    "        dataset.shuffle(50000) # Shuffle the whole dataset in memory\n",
    "        batches = dataset.batch(batch_size=batch_size, drop_remainder=True)\n",
    "        \n",
    "        for i_batch, (batch_data, y_true) in enumerate(batches):\n",
    "            batch_data = tf.reshape(batch_data, [-1, 32, 32, 3])\n",
    "            loss = train_iteration(batch_data, y_true, model, opt)\n",
    "            \n",
    "        end = time.time()\n",
    "        print(\"took %1.1f seconds for epoch #%d\" % (end-start, i_epoch))"
   ]
  },
  {
   "cell_type": "code",
   "execution_count": 17,
   "metadata": {},
   "outputs": [],
   "source": [
    "def train_network(_batch_size, _n_training_epochs, _lr):\n",
    "\n",
    "    cifar_model = CIFAR10Classifier()\n",
    "\n",
    "    opt = tf.keras.optimizers.Adam(_lr)\n",
    "\n",
    "    train_loop(_batch_size, _n_training_epochs, cifar_model, opt)"
   ]
  },
  {
   "cell_type": "code",
   "execution_count": 18,
   "metadata": {},
   "outputs": [
    {
     "name": "stdout",
     "output_type": "stream",
     "text": [
      "beginning epoch 0\n",
      "took 1.3 seconds for epoch #0\n",
      "beginning epoch 1\n",
      "took 0.9 seconds for epoch #1\n",
      "beginning epoch 2\n",
      "took 0.9 seconds for epoch #2\n"
     ]
    }
   ],
   "source": [
    "dataset = tf.data.Dataset.from_tensor_slices((x_train, y_train))\n",
    "dataset.shuffle(50000)\n",
    "\n",
    "batch_size = 512\n",
    "epochs = 3\n",
    "lr = .01\n",
    "train_network(batch_size, epochs, lr)"
   ]
  },
  {
   "cell_type": "markdown",
   "metadata": {},
   "source": [
    "# Homework: improve the accuracy of this model"
   ]
  },
  {
   "cell_type": "markdown",
   "metadata": {},
   "source": [
    "Update this notebook to ensure more accuracy. How high can it be raised? Changes like increasing the number of epochs, altering the learning rate, altering the number of neurons the hidden layer, chnaging the optimizer, etc. could be made directly in the notebook. You can also change the model specification by expanding the network's layer. The current notebook's training accuracy is roughly 58.69%, although it varies randomly."
   ]
  },
  {
   "cell_type": "code",
   "execution_count": 19,
   "metadata": {},
   "outputs": [
    {
     "name": "stdout",
     "output_type": "stream",
     "text": [
      "Epoch 1/10\n",
      "50/50 [==============================] - 1s 16ms/step - loss: 2.0114 - accuracy: 0.2668\n",
      "Epoch 2/10\n",
      "50/50 [==============================] - 1s 12ms/step - loss: 1.7425 - accuracy: 0.3724\n",
      "Epoch 3/10\n",
      "50/50 [==============================] - 1s 12ms/step - loss: 1.6128 - accuracy: 0.4188\n",
      "Epoch 4/10\n",
      "50/50 [==============================] - 1s 12ms/step - loss: 1.5359 - accuracy: 0.4474\n",
      "Epoch 5/10\n",
      "50/50 [==============================] - 1s 12ms/step - loss: 1.4772 - accuracy: 0.4727\n",
      "Epoch 6/10\n",
      "50/50 [==============================] - 1s 12ms/step - loss: 1.4260 - accuracy: 0.4953\n",
      "Epoch 7/10\n",
      "50/50 [==============================] - 1s 12ms/step - loss: 1.3896 - accuracy: 0.5054\n",
      "Epoch 8/10\n",
      "50/50 [==============================] - 1s 12ms/step - loss: 1.3502 - accuracy: 0.5198\n",
      "Epoch 9/10\n",
      "50/50 [==============================] - 1s 12ms/step - loss: 1.3301 - accuracy: 0.5261\n",
      "Epoch 10/10\n",
      "50/50 [==============================] - 1s 11ms/step - loss: 1.2968 - accuracy: 0.5395\n"
     ]
    },
    {
     "data": {
      "image/png": "[encoded data removed]",
      "text/plain": [
       "<Figure size 360x216 with 1 Axes>"
      ]
     },
     "metadata": {
      "needs_background": "light"
     },
     "output_type": "display_data"
    },
    {
     "data": {
      "image/png": "[encoded data removed]",
      "text/plain": [
       "<Figure size 360x216 with 1 Axes>"
      ]
     },
     "metadata": {
      "needs_background": "light"
     },
     "output_type": "display_data"
    }
   ],
   "source": [
    "#Increasing epochs,learning rate, number of neurons in the hidden layer, optimizer\n",
    "def train_network_concise(_batch_size, _n_training_epochs, _lr):\n",
    "\n",
    "    cnn_model = CIFAR10Classifier()\n",
    "\n",
    "    cnn_model.compile(loss=\"sparse_categorical_crossentropy\", optimizer=\"Adamax\", metrics=['accuracy'])\n",
    "    \n",
    "    history = cnn_model.fit(x_train, y_train, batch_size=_batch_size, epochs=_n_training_epochs)\n",
    "    return history, cnn_model\n",
    "\n",
    "# This took 43 seconds per epoch on my laptop\n",
    "batch_size = 1012\n",
    "epochs = 10\n",
    "lr = .01\n",
    "history, cnn_model = train_network_concise(batch_size, epochs, lr)\n",
    "\n",
    "plt.figure(figsize=(5,3))\n",
    "plt.plot(history.epoch,history.history['loss'])\n",
    "plt.title('loss')\n",
    "\n",
    "plt.figure(figsize=(5,3))\n",
    "plt.plot(history.epoch,history.history['accuracy'])\n",
    "plt.title('accuracy');"
   ]
  },
  {
   "cell_type": "code",
   "execution_count": 20,
   "metadata": {},
   "outputs": [],
   "source": [
    "# (history.epoch,history.history['accuracy'])*100"
   ]
  },
  {
   "cell_type": "code",
   "execution_count": 29,
   "metadata": {},
   "outputs": [],
   "source": [
    "## Chaniging the model\n",
    "class CIFAR10Classifier_mod(tf.keras.models.Model):\n",
    "\n",
    "    def __init__(self, activation=tf.nn.tanh):\n",
    "        tf.keras.models.Model.__init__(self)\n",
    "\n",
    "        self.conv_1 = tf.keras.layers.Conv2D(32, [3, 3], activation='relu')\n",
    "        self.conv_2 = tf.keras.layers.Conv2D(64, [3, 3], activation='relu')\n",
    "        self.pool_3 = tf.keras.layers.MaxPooling2D(pool_size=(2, 2))\n",
    "        self.drop_4 = tf.keras.layers.Dropout(0.25)\n",
    "        self.dense_5 = tf.keras.layers.Dense(256, activation='relu')\n",
    "        self.drop_6 = tf.keras.layers.Dropout(0.5)\n",
    "        self.dense_7 = tf.keras.layers.Dense(10, activation='softmax')\n",
    "        self.dense_8 = tf.keras.layers.Dense(15, activation='softmax')\n",
    "        #self.dense_9 = tf.keras.layers.Dense(20, activation='softmax')\n",
    "        #self.drop_9 = tf.keras.layers.Dropout(0.25)\n",
    "        #self.dense_10 = tf.keras.layers.Dense(128, activation='relu')\n",
    "\n",
    "    def call(self, inputs):\n",
    "\n",
    "        x = self.conv_1(inputs)\n",
    "        x = self.conv_2(x)\n",
    "        x = self.pool_3(x)\n",
    "        x = self.drop_4(x)\n",
    "        x = tf.keras.layers.Flatten()(x)\n",
    "        x = self.dense_5(x)\n",
    "        x = self.drop_6(x)\n",
    "        x = self.dense_7(x)\n",
    "        x = self.dense_8(x)\n",
    "        #x = self.drop_9(x)\n",
    "        #x = tf.keras.layers.Flatten()(x)\n",
    "#       x = self.dense_10(x)\n",
    "\n",
    "        return x"
   ]
  },
  {
   "cell_type": "code",
   "execution_count": 34,
   "metadata": {},
   "outputs": [
    {
     "name": "stdout",
     "output_type": "stream",
     "text": [
      "Epoch 1/35\n",
      "100/100 [==============================] - 1s 7ms/step - loss: 2.5721 - accuracy: 0.1527\n",
      "Epoch 2/35\n",
      "100/100 [==============================] - 1s 7ms/step - loss: 2.4684 - accuracy: 0.2100\n",
      "Epoch 3/35\n",
      "100/100 [==============================] - 1s 7ms/step - loss: 2.3897 - accuracy: 0.2143\n",
      "Epoch 4/35\n",
      "100/100 [==============================] - 1s 7ms/step - loss: 2.3165 - accuracy: 0.2259\n",
      "Epoch 5/35\n",
      "100/100 [==============================] - 1s 7ms/step - loss: 2.2467 - accuracy: 0.2833\n",
      "Epoch 6/35\n",
      "100/100 [==============================] - 1s 7ms/step - loss: 2.1830 - accuracy: 0.2901\n",
      "Epoch 7/35\n",
      "100/100 [==============================] - 1s 7ms/step - loss: 2.1202 - accuracy: 0.2992\n",
      "Epoch 8/35\n",
      "100/100 [==============================] - 1s 7ms/step - loss: 2.0632 - accuracy: 0.3074\n",
      "Epoch 9/35\n",
      "100/100 [==============================] - 1s 8ms/step - loss: 2.0101 - accuracy: 0.3118\n",
      "Epoch 10/35\n",
      "100/100 [==============================] - 1s 7ms/step - loss: 1.9599 - accuracy: 0.3187\n",
      "Epoch 11/35\n",
      "100/100 [==============================] - 1s 7ms/step - loss: 1.9113 - accuracy: 0.3245\n",
      "Epoch 12/35\n",
      "100/100 [==============================] - 1s 7ms/step - loss: 1.8680 - accuracy: 0.3290\n",
      "Epoch 13/35\n",
      "100/100 [==============================] - 1s 7ms/step - loss: 1.8309 - accuracy: 0.3301\n",
      "Epoch 14/35\n",
      "100/100 [==============================] - 1s 7ms/step - loss: 1.7862 - accuracy: 0.3352\n",
      "Epoch 15/35\n",
      "100/100 [==============================] - 1s 7ms/step - loss: 1.7528 - accuracy: 0.3372\n",
      "Epoch 16/35\n",
      "100/100 [==============================] - 1s 7ms/step - loss: 1.7207 - accuracy: 0.3384\n",
      "Epoch 17/35\n",
      "100/100 [==============================] - 1s 7ms/step - loss: 1.6886 - accuracy: 0.3430\n",
      "Epoch 18/35\n",
      "100/100 [==============================] - 1s 7ms/step - loss: 1.6610 - accuracy: 0.3452\n",
      "Epoch 19/35\n",
      "100/100 [==============================] - 1s 7ms/step - loss: 1.6371 - accuracy: 0.3481\n",
      "Epoch 20/35\n",
      "100/100 [==============================] - 1s 7ms/step - loss: 1.6084 - accuracy: 0.3517\n",
      "Epoch 21/35\n",
      "100/100 [==============================] - 1s 7ms/step - loss: 1.5872 - accuracy: 0.3512\n",
      "Epoch 22/35\n",
      "100/100 [==============================] - 1s 7ms/step - loss: 1.5618 - accuracy: 0.3567\n",
      "Epoch 23/35\n",
      "100/100 [==============================] - 1s 7ms/step - loss: 1.5410 - accuracy: 0.3570\n",
      "Epoch 24/35\n",
      "100/100 [==============================] - 1s 7ms/step - loss: 1.5225 - accuracy: 0.3640\n",
      "Epoch 25/35\n",
      "100/100 [==============================] - 1s 7ms/step - loss: 1.5045 - accuracy: 0.3626\n",
      "Epoch 26/35\n",
      "100/100 [==============================] - 1s 7ms/step - loss: 1.4892 - accuracy: 0.3659\n",
      "Epoch 27/35\n",
      "100/100 [==============================] - 1s 7ms/step - loss: 1.4707 - accuracy: 0.3688\n",
      "Epoch 28/35\n",
      "100/100 [==============================] - 1s 7ms/step - loss: 1.4527 - accuracy: 0.3741\n",
      "Epoch 29/35\n",
      "100/100 [==============================] - 1s 7ms/step - loss: 1.4356 - accuracy: 0.3809\n",
      "Epoch 30/35\n",
      "100/100 [==============================] - 1s 7ms/step - loss: 1.4190 - accuracy: 0.3826\n",
      "Epoch 31/35\n",
      "100/100 [==============================] - 1s 7ms/step - loss: 1.4078 - accuracy: 0.3911\n",
      "Epoch 32/35\n",
      "100/100 [==============================] - 1s 7ms/step - loss: 1.3944 - accuracy: 0.4008\n",
      "Epoch 33/35\n",
      "100/100 [==============================] - 1s 7ms/step - loss: 1.3805 - accuracy: 0.4105\n",
      "Epoch 34/35\n",
      "100/100 [==============================] - 1s 7ms/step - loss: 1.3679 - accuracy: 0.4118\n",
      "Epoch 35/35\n",
      "100/100 [==============================] - 1s 7ms/step - loss: 1.3611 - accuracy: 0.4107\n"
     ]
    },
    {
     "data": {
      "image/png": "[encoded data removed]",
      "text/plain": [
       "<Figure size 360x216 with 1 Axes>"
      ]
     },
     "metadata": {
      "needs_background": "light"
     },
     "output_type": "display_data"
    },
    {
     "data": {
      "image/png": "[encoded data removed]",
      "text/plain": [
       "<Figure size 360x216 with 1 Axes>"
      ]
     },
     "metadata": {
      "needs_background": "light"
     },
     "output_type": "display_data"
    }
   ],
   "source": [
    "def train_network_concise(_batch_size, _n_training_epochs, _lr):\n",
    "\n",
    "    cnn_model = CIFAR10Classifier_mod()\n",
    "\n",
    "    cnn_model.compile(loss=\"sparse_categorical_crossentropy\", optimizer=\"SGD\", metrics=['accuracy'])\n",
    "    \n",
    "    history = cnn_model.fit(x_train, y_train, batch_size=_batch_size, epochs=_n_training_epochs)\n",
    "    return history, cnn_model\n",
    "\n",
    "# This took 43 seconds per epoch on my laptop\n",
    "batch_size = 500\n",
    "epochs = 35\n",
    "lr = .015\n",
    "\n",
    "history, cnn_model = train_network_concise(batch_size, epochs, lr)\n",
    "\n",
    "plt.figure(figsize=(5,3))\n",
    "plt.plot(history.epoch,history.history['loss'])\n",
    "plt.title('loss')\n",
    "\n",
    "plt.figure(figsize=(5,3))\n",
    "plt.plot(history.epoch,history.history['accuracy'])\n",
    "plt.title('accuracy');"
   ]
  },
  {
   "cell_type": "code",
   "execution_count": 36,
   "metadata": {},
   "outputs": [
    {
     "name": "stdout",
     "output_type": "stream",
     "text": [
      "Epoch 1/35\n",
      "100/100 [==============================] - 1s 7ms/step - loss: 2.5284 - accuracy: 0.1924\n",
      "Epoch 2/35\n",
      "100/100 [==============================] - 1s 7ms/step - loss: 2.3870 - accuracy: 0.2340\n",
      "Epoch 3/35\n",
      "100/100 [==============================] - 1s 7ms/step - loss: 2.2764 - accuracy: 0.2425\n",
      "Epoch 4/35\n",
      "100/100 [==============================] - 1s 7ms/step - loss: 2.1856 - accuracy: 0.2508\n",
      "Epoch 5/35\n",
      "100/100 [==============================] - 1s 7ms/step - loss: 2.1112 - accuracy: 0.2629\n",
      "Epoch 6/35\n",
      "100/100 [==============================] - 1s 7ms/step - loss: 2.0478 - accuracy: 0.2735\n",
      "Epoch 7/35\n",
      "100/100 [==============================] - 1s 7ms/step - loss: 1.9877 - accuracy: 0.2860\n",
      "Epoch 8/35\n",
      "100/100 [==============================] - 1s 7ms/step - loss: 1.9390 - accuracy: 0.3008\n",
      "Epoch 9/35\n",
      "100/100 [==============================] - 1s 9ms/step - loss: 1.8932 - accuracy: 0.3193\n",
      "Epoch 10/35\n",
      "100/100 [==============================] - 1s 7ms/step - loss: 1.8469 - accuracy: 0.3240\n",
      "Epoch 11/35\n",
      "100/100 [==============================] - 1s 7ms/step - loss: 1.8125 - accuracy: 0.3260\n",
      "Epoch 12/35\n",
      "100/100 [==============================] - 1s 7ms/step - loss: 1.7735 - accuracy: 0.3289\n",
      "Epoch 13/35\n",
      "100/100 [==============================] - 1s 7ms/step - loss: 1.7389 - accuracy: 0.3404\n",
      "Epoch 14/35\n",
      "100/100 [==============================] - 1s 7ms/step - loss: 1.7093 - accuracy: 0.3468\n",
      "Epoch 15/35\n",
      "100/100 [==============================] - 1s 7ms/step - loss: 1.6776 - accuracy: 0.3587\n",
      "Epoch 16/35\n",
      "100/100 [==============================] - 1s 7ms/step - loss: 1.6434 - accuracy: 0.3860\n",
      "Epoch 17/35\n",
      "100/100 [==============================] - 1s 7ms/step - loss: 1.6065 - accuracy: 0.4230\n",
      "Epoch 18/35\n",
      "100/100 [==============================] - 1s 7ms/step - loss: 1.5579 - accuracy: 0.4460\n",
      "Epoch 19/35\n",
      "100/100 [==============================] - 1s 7ms/step - loss: 1.5169 - accuracy: 0.4624\n",
      "Epoch 20/35\n",
      "100/100 [==============================] - 1s 7ms/step - loss: 1.4768 - accuracy: 0.4762\n",
      "Epoch 21/35\n",
      "100/100 [==============================] - 1s 7ms/step - loss: 1.4396 - accuracy: 0.4883\n",
      "Epoch 22/35\n",
      "100/100 [==============================] - 1s 7ms/step - loss: 1.4090 - accuracy: 0.5018\n",
      "Epoch 23/35\n",
      "100/100 [==============================] - 1s 7ms/step - loss: 1.3770 - accuracy: 0.5108\n",
      "Epoch 24/35\n",
      "100/100 [==============================] - 1s 7ms/step - loss: 1.3454 - accuracy: 0.5220\n",
      "Epoch 25/35\n",
      "100/100 [==============================] - 1s 7ms/step - loss: 1.3235 - accuracy: 0.5283\n",
      "Epoch 26/35\n",
      "100/100 [==============================] - 1s 8ms/step - loss: 1.3014 - accuracy: 0.5335\n",
      "Epoch 27/35\n",
      "100/100 [==============================] - 1s 8ms/step - loss: 1.2732 - accuracy: 0.5427\n",
      "Epoch 28/35\n",
      "100/100 [==============================] - 1s 7ms/step - loss: 1.2519 - accuracy: 0.5493\n",
      "Epoch 29/35\n",
      "100/100 [==============================] - 1s 7ms/step - loss: 1.2353 - accuracy: 0.5542\n",
      "Epoch 30/35\n",
      "100/100 [==============================] - 1s 7ms/step - loss: 1.2118 - accuracy: 0.5609\n",
      "Epoch 31/35\n",
      "100/100 [==============================] - 1s 7ms/step - loss: 1.1906 - accuracy: 0.5683\n",
      "Epoch 32/35\n",
      "100/100 [==============================] - 1s 7ms/step - loss: 1.1705 - accuracy: 0.5739\n",
      "Epoch 33/35\n",
      "100/100 [==============================] - 1s 7ms/step - loss: 1.1542 - accuracy: 0.5765\n",
      "Epoch 34/35\n",
      "100/100 [==============================] - 1s 7ms/step - loss: 1.1389 - accuracy: 0.5844\n",
      "Epoch 35/35\n",
      "100/100 [==============================] - 1s 7ms/step - loss: 1.1290 - accuracy: 0.5848\n"
     ]
    },
    {
     "data": {
      "image/png": "[encoded data removed]",
      "text/plain": [
       "<Figure size 360x216 with 1 Axes>"
      ]
     },
     "metadata": {
      "needs_background": "light"
     },
     "output_type": "display_data"
    },
    {
     "data": {
      "image/png": "[encoded data removed]",
      "text/plain": [
       "<Figure size 360x216 with 1 Axes>"
      ]
     },
     "metadata": {
      "needs_background": "light"
     },
     "output_type": "display_data"
    }
   ],
   "source": [
    "def train_network_concise(_batch_size, _n_training_epochs, _lr):\n",
    "\n",
    "    cnn_model = CIFAR10Classifier_mod()\n",
    "\n",
    "    cnn_model.compile(loss=\"sparse_categorical_crossentropy\", optimizer=\"Adam\", metrics=['accuracy'])\n",
    "    \n",
    "    history = cnn_model.fit(x_train, y_train, batch_size=_batch_size, epochs=_n_training_epochs)\n",
    "    return history, cnn_model\n",
    "\n",
    "# This took 43 seconds per epoch on my laptop\n",
    "batch_size = 500\n",
    "epochs = 35\n",
    "lr = .015\n",
    "\n",
    "history, cnn_model = train_network_concise(batch_size, epochs, lr)\n",
    "\n",
    "plt.figure(figsize=(5,3))\n",
    "plt.plot(history.epoch,history.history['loss'])\n",
    "plt.title('loss')\n",
    "\n",
    "plt.figure(figsize=(5,3))\n",
    "plt.plot(history.epoch,history.history['accuracy'])\n",
    "plt.title('accuracy');"
   ]
  },
  {
   "cell_type": "code",
   "execution_count": null,
   "metadata": {},
   "outputs": [],
   "source": []
  }
 ],
 "metadata": {
  "kernelspec": {
   "display_name": "conda/2022-07-01",
   "language": "python",
   "name": "conda-2022-07-01"
  },
  "language_info": {
   "codemirror_mode": {
    "name": "ipython",
    "version": 3
   },
   "file_extension": ".py",
   "mimetype": "text/x-python",
   "name": "python",
   "nbconvert_exporter": "python",
   "pygments_lexer": "ipython3",
   "version": "3.8.13"
  }
 },
 "nbformat": 4,
 "nbformat_minor": 4
}
